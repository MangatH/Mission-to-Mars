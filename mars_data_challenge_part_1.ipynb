{
 "cells": [
  {
   "cell_type": "code",
   "execution_count": 1,
   "id": "94aa16fb",
   "metadata": {},
   "outputs": [],
   "source": [
    "# Import Splinter and BeautifulSoup\n",
    "from splinter import Browser\n",
    "from bs4 import BeautifulSoup as soup\n",
    "from webdriver_manager.chrome import ChromeDriverManager\n"
   ]
  },
  {
   "cell_type": "code",
   "execution_count": 2,
   "id": "91c5c3fb",
   "metadata": {},
   "outputs": [],
   "source": [
    "executable_path = {'executable_path': ChromeDriverManager().install()}\n",
    "browser = Browser('chrome', **executable_path, headless=False)"
   ]
  },
  {
   "cell_type": "code",
   "execution_count": 3,
   "id": "314eb3bd",
   "metadata": {},
   "outputs": [],
   "source": [
    "# Visit the Mars NASA news site\n",
    "url = 'https://redplanetscience.com'\n",
    "browser.visit(url)"
   ]
  },
  {
   "cell_type": "code",
   "execution_count": 4,
   "id": "4ca0c653",
   "metadata": {},
   "outputs": [],
   "source": [
    "html = browser.html\n",
    "news_soup = soup(html, 'html.parser')\n"
   ]
  },
  {
   "cell_type": "code",
   "execution_count": 5,
   "id": "7a88b694",
   "metadata": {},
   "outputs": [],
   "source": [
    "mars_list = []\n"
   ]
  },
  {
   "cell_type": "code",
   "execution_count": 6,
   "id": "1aaa4b5d",
   "metadata": {},
   "outputs": [
    {
     "name": "stdout",
     "output_type": "stream",
     "text": [
      "[<div class=\"list_text\">\n",
      "<div class=\"list_date\">November 7, 2022</div>\n",
      "<div class=\"content_title\">Virginia Middle School Student Earns Honor of Naming NASA's Next Mars Rover</div>\n",
      "<div class=\"article_teaser_body\">NASA chose a seventh-grader from Virginia as winner of the agency's \"Name the Rover\" essay contest. Alexander Mather's entry for \"Perseverance\" was voted tops among 28,000 entries. </div>\n",
      "</div>, <div class=\"list_text\">\n",
      "<div class=\"list_date\">November 7, 2022</div>\n",
      "<div class=\"content_title\">Naming a NASA Mars Rover Can Change Your Life</div>\n",
      "<div class=\"article_teaser_body\">Want to name the robotic scientist NASA is sending to Mars in 2020? The student who named Curiosity — the rover currently exploring Mars — will tell you this is an opportunity worth taking.</div>\n",
      "</div>, <div class=\"list_text\">\n",
      "<div class=\"list_date\">November 6, 2022</div>\n",
      "<div class=\"content_title\">NASA's Perseverance Rover 100 Days Out</div>\n",
      "<div class=\"article_teaser_body\">Mark your calendars: The agency's latest rover has only about 8,640,000 seconds to go before it touches down on the Red Planet, becoming history's next Mars car.</div>\n",
      "</div>, <div class=\"list_text\">\n",
      "<div class=\"list_date\">November 4, 2022</div>\n",
      "<div class=\"content_title\">Independent Review Indicates NASA Prepared for Mars Sample Return Campaign</div>\n",
      "<div class=\"article_teaser_body\">NASA released an independent review report Tuesday indicating the agency is well positioned for its Mars Sample Return campaign to bring pristine samples from Mars to Earth for scientific study.</div>\n",
      "</div>, <div class=\"list_text\">\n",
      "<div class=\"list_date\">November 2, 2022</div>\n",
      "<div class=\"content_title\">NASA's Perseverance Rover Goes Through Trials by Fire, Ice, Light and Sound</div>\n",
      "<div class=\"article_teaser_body\">The agency's new Mars rover is put through a series of tests in vacuum chambers, acoustic chambers and more to get ready for the Red Planet.</div>\n",
      "</div>, <div class=\"list_text\">\n",
      "<div class=\"list_date\">November 1, 2022</div>\n",
      "<div class=\"content_title\">NASA Perseverance Mars Rover Scientists Train in the Nevada Desert</div>\n",
      "<div class=\"article_teaser_body\">Team members searched for signs of ancient microscopic life there, just as NASA's latest rover will on the Red Planet next year.</div>\n",
      "</div>, <div class=\"list_text\">\n",
      "<div class=\"list_date\">October 28, 2022</div>\n",
      "<div class=\"content_title\">AI Is Helping Scientists Discover Fresh Craters on Mars</div>\n",
      "<div class=\"article_teaser_body\">It's the first time machine learning has been used to find previously unknown craters on the Red Planet.</div>\n",
      "</div>, <div class=\"list_text\">\n",
      "<div class=\"list_date\">October 26, 2022</div>\n",
      "<div class=\"content_title\">NASA's Perseverance Rover Will Peer Beneath Mars' Surface </div>\n",
      "<div class=\"article_teaser_body\">The agency's newest rover will use the first ground-penetrating radar instrument on the Martian surface to help search for signs of past microbial life. </div>\n",
      "</div>, <div class=\"list_text\">\n",
      "<div class=\"list_date\">October 26, 2022</div>\n",
      "<div class=\"content_title\">From JPL's Mailroom to Mars and Beyond</div>\n",
      "<div class=\"article_teaser_body\">Bill Allen has thrived as the mechanical systems design lead for three Mars rover missions, but he got his start as a teenager sorting letters for the NASA center.</div>\n",
      "</div>, <div class=\"list_text\">\n",
      "<div class=\"list_date\">October 26, 2022</div>\n",
      "<div class=\"content_title\">Join NASA for the Launch of the Mars 2020 Perseverance Rover</div>\n",
      "<div class=\"article_teaser_body\">No matter where you live, choose from a menu of activities to join NASA as we \"Countdown to Mars\" and launch the Perseverance rover to the Red Planet.</div>\n",
      "</div>, <div class=\"list_text\">\n",
      "<div class=\"list_date\">October 25, 2022</div>\n",
      "<div class=\"content_title\">NASA's MAVEN Observes Martian Night Sky Pulsing in Ultraviolet Light</div>\n",
      "<div class=\"article_teaser_body\">Vast areas of the Martian night sky pulse in ultraviolet light, according to images from NASA’s MAVEN spacecraft. The results are being used to illuminate complex circulation patterns in the Martian atmosphere.</div>\n",
      "</div>, <div class=\"list_text\">\n",
      "<div class=\"list_date\">October 24, 2022</div>\n",
      "<div class=\"content_title\">NASA's Perseverance Mars Rover Gets Balanced</div>\n",
      "<div class=\"article_teaser_body\">The mission team performed a crucial weight-balancing test on the rover in preparation for this summer's history-making launch to the Red Planet.</div>\n",
      "</div>, <div class=\"list_text\">\n",
      "<div class=\"list_date\">October 21, 2022</div>\n",
      "<div class=\"content_title\">Deadline Closing for Names to Fly on NASA's Next Mars Rover</div>\n",
      "<div class=\"article_teaser_body\">You have until Sept. 30 to send your names to Mars aboard the Mars 2020 rover. </div>\n",
      "</div>, <div class=\"list_text\">\n",
      "<div class=\"list_date\">October 21, 2022</div>\n",
      "<div class=\"content_title\">Newfound Martian Aurora Actually the Most Common; Sheds Light on Mars' Changing Climate</div>\n",
      "<div class=\"article_teaser_body\">A type of Martian aurora first identified by NASA’s MAVEN spacecraft in 2016 is actually the most common form of aurora occurring on the Red Planet, according to new results from the mission.</div>\n",
      "</div>, <div class=\"list_text\">\n",
      "<div class=\"list_date\">October 15, 2022</div>\n",
      "<div class=\"content_title\">NASA's Mars Reconnaissance Orbiter Undergoes Memory Update</div>\n",
      "<div class=\"article_teaser_body\">Other orbiters will continue relaying data from Mars surface missions for a two-week period.</div>\n",
      "</div>]\n"
     ]
    }
   ],
   "source": [
    "all_divs = news_soup.find_all('div', class_='list_text')\n",
    "print(all_divs)"
   ]
  },
  {
   "cell_type": "code",
   "execution_count": 7,
   "id": "62c41646",
   "metadata": {},
   "outputs": [
    {
     "name": "stdout",
     "output_type": "stream",
     "text": [
      "Virginia Middle School Student Earns Honor of Naming NASA's Next Mars Rover NASA chose a seventh-grader from Virginia as winner of the agency's \"Name the Rover\" essay contest. Alexander Mather's entry for \"Perseverance\" was voted tops among 28,000 entries. \n",
      "Naming a NASA Mars Rover Can Change Your Life Want to name the robotic scientist NASA is sending to Mars in 2020? The student who named Curiosity — the rover currently exploring Mars — will tell you this is an opportunity worth taking.\n",
      "NASA's Perseverance Rover 100 Days Out Mark your calendars: The agency's latest rover has only about 8,640,000 seconds to go before it touches down on the Red Planet, becoming history's next Mars car.\n",
      "Independent Review Indicates NASA Prepared for Mars Sample Return Campaign NASA released an independent review report Tuesday indicating the agency is well positioned for its Mars Sample Return campaign to bring pristine samples from Mars to Earth for scientific study.\n",
      "NASA's Perseverance Rover Goes Through Trials by Fire, Ice, Light and Sound The agency's new Mars rover is put through a series of tests in vacuum chambers, acoustic chambers and more to get ready for the Red Planet.\n",
      "NASA Perseverance Mars Rover Scientists Train in the Nevada Desert Team members searched for signs of ancient microscopic life there, just as NASA's latest rover will on the Red Planet next year.\n",
      "AI Is Helping Scientists Discover Fresh Craters on Mars It's the first time machine learning has been used to find previously unknown craters on the Red Planet.\n",
      "NASA's Perseverance Rover Will Peer Beneath Mars' Surface  The agency's newest rover will use the first ground-penetrating radar instrument on the Martian surface to help search for signs of past microbial life. \n",
      "From JPL's Mailroom to Mars and Beyond Bill Allen has thrived as the mechanical systems design lead for three Mars rover missions, but he got his start as a teenager sorting letters for the NASA center.\n",
      "Join NASA for the Launch of the Mars 2020 Perseverance Rover No matter where you live, choose from a menu of activities to join NASA as we \"Countdown to Mars\" and launch the Perseverance rover to the Red Planet.\n",
      "NASA's MAVEN Observes Martian Night Sky Pulsing in Ultraviolet Light Vast areas of the Martian night sky pulse in ultraviolet light, according to images from NASA’s MAVEN spacecraft. The results are being used to illuminate complex circulation patterns in the Martian atmosphere.\n",
      "NASA's Perseverance Mars Rover Gets Balanced The mission team performed a crucial weight-balancing test on the rover in preparation for this summer's history-making launch to the Red Planet.\n",
      "Deadline Closing for Names to Fly on NASA's Next Mars Rover You have until Sept. 30 to send your names to Mars aboard the Mars 2020 rover. \n",
      "Newfound Martian Aurora Actually the Most Common; Sheds Light on Mars' Changing Climate A type of Martian aurora first identified by NASA’s MAVEN spacecraft in 2016 is actually the most common form of aurora occurring on the Red Planet, according to new results from the mission.\n",
      "NASA's Mars Reconnaissance Orbiter Undergoes Memory Update Other orbiters will continue relaying data from Mars surface missions for a two-week period.\n",
      "[{'title': \"Virginia Middle School Student Earns Honor of Naming NASA's Next Mars Rover\", 'prev': 'NASA chose a seventh-grader from Virginia as winner of the agency\\'s \"Name the Rover\" essay contest. Alexander Mather\\'s entry for \"Perseverance\" was voted tops among 28,000 entries. '}, {'title': 'Naming a NASA Mars Rover Can Change Your Life', 'prev': 'Want to name the robotic scientist NASA is sending to Mars in 2020? The student who named Curiosity — the rover currently exploring Mars — will tell you this is an opportunity worth taking.'}, {'title': \"NASA's Perseverance Rover 100 Days Out\", 'prev': \"Mark your calendars: The agency's latest rover has only about 8,640,000 seconds to go before it touches down on the Red Planet, becoming history's next Mars car.\"}, {'title': 'Independent Review Indicates NASA Prepared for Mars Sample Return Campaign', 'prev': 'NASA released an independent review report Tuesday indicating the agency is well positioned for its Mars Sample Return campaign to bring pristine samples from Mars to Earth for scientific study.'}, {'title': \"NASA's Perseverance Rover Goes Through Trials by Fire, Ice, Light and Sound\", 'prev': \"The agency's new Mars rover is put through a series of tests in vacuum chambers, acoustic chambers and more to get ready for the Red Planet.\"}, {'title': 'NASA Perseverance Mars Rover Scientists Train in the Nevada Desert', 'prev': \"Team members searched for signs of ancient microscopic life there, just as NASA's latest rover will on the Red Planet next year.\"}, {'title': 'AI Is Helping Scientists Discover Fresh Craters on Mars', 'prev': \"It's the first time machine learning has been used to find previously unknown craters on the Red Planet.\"}, {'title': \"NASA's Perseverance Rover Will Peer Beneath Mars' Surface \", 'prev': \"The agency's newest rover will use the first ground-penetrating radar instrument on the Martian surface to help search for signs of past microbial life. \"}, {'title': \"From JPL's Mailroom to Mars and Beyond\", 'prev': 'Bill Allen has thrived as the mechanical systems design lead for three Mars rover missions, but he got his start as a teenager sorting letters for the NASA center.'}, {'title': 'Join NASA for the Launch of the Mars 2020 Perseverance Rover', 'prev': 'No matter where you live, choose from a menu of activities to join NASA as we \"Countdown to Mars\" and launch the Perseverance rover to the Red Planet.'}, {'title': \"NASA's MAVEN Observes Martian Night Sky Pulsing in Ultraviolet Light\", 'prev': 'Vast areas of the Martian night sky pulse in ultraviolet light, according to images from NASA’s MAVEN spacecraft. The results are being used to illuminate complex circulation patterns in the Martian atmosphere.'}, {'title': \"NASA's Perseverance Mars Rover Gets Balanced\", 'prev': \"The mission team performed a crucial weight-balancing test on the rover in preparation for this summer's history-making launch to the Red Planet.\"}, {'title': \"Deadline Closing for Names to Fly on NASA's Next Mars Rover\", 'prev': 'You have until Sept. 30 to send your names to Mars aboard the Mars 2020 rover. '}, {'title': \"Newfound Martian Aurora Actually the Most Common; Sheds Light on Mars' Changing Climate\", 'prev': 'A type of Martian aurora first identified by NASA’s MAVEN spacecraft in 2016 is actually the most common form of aurora occurring on the Red Planet, according to new results from the mission.'}, {'title': \"NASA's Mars Reconnaissance Orbiter Undergoes Memory Update\", 'prev': 'Other orbiters will continue relaying data from Mars surface missions for a two-week period.'}]\n"
     ]
    }
   ],
   "source": [
    "# Scraping the title and preview and storing it in a python dictionary\n",
    "#all_divs = news_soup.find_all('div', class_='list_text')\n",
    "#print(all_divs)\n",
    "for div in all_divs:\n",
    "    div_title = div.find('div', class_='content_title').text\n",
    "    div_prev = div.find('div', class_='article_teaser_body').text\n",
    "    print(div_title, div_prev)\n",
    "    alternate_dict = {}\n",
    "    alternate_dict['title'] = div_title\n",
    "    alternate_dict['prev'] = div_prev\n",
    "    mars_list.append(alternate_dict)\n",
    "    \n",
    "print(mars_list)"
   ]
  },
  {
   "cell_type": "code",
   "execution_count": 8,
   "id": "79734717",
   "metadata": {},
   "outputs": [],
   "source": [
    "import json\n",
    "\n"
   ]
  },
  {
   "cell_type": "code",
   "execution_count": 9,
   "id": "abdc68bc",
   "metadata": {},
   "outputs": [],
   "source": [
    "with open(\"mars_news.json\",\"w\") as file:\n",
    "    json.dump(mars_list, file)"
   ]
  },
  {
   "cell_type": "code",
   "execution_count": null,
   "id": "cacc85a5",
   "metadata": {},
   "outputs": [],
   "source": []
  }
 ],
 "metadata": {
  "kernelspec": {
   "display_name": "PythonData",
   "language": "python",
   "name": "pythondata"
  },
  "language_info": {
   "codemirror_mode": {
    "name": "ipython",
    "version": 3
   },
   "file_extension": ".py",
   "mimetype": "text/x-python",
   "name": "python",
   "nbconvert_exporter": "python",
   "pygments_lexer": "ipython3",
   "version": "3.9.12"
  }
 },
 "nbformat": 4,
 "nbformat_minor": 5
}
